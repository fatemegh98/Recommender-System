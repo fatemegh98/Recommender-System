{
  "nbformat": 4,
  "nbformat_minor": 0,
  "metadata": {
    "colab": {
      "name": "Knowledge-Based Recommender System",
      "provenance": [],
      "collapsed_sections": []
    },
    "kernelspec": {
      "name": "python3",
      "display_name": "Python 3"
    }
  },
  "cells": [
    {
      "cell_type": "markdown",
      "metadata": {
        "id": "g4PXpPK9csQJ"
      },
      "source": [
        "# Initialization"
      ]
    },
    {
      "cell_type": "code",
      "metadata": {
        "id": "f5NDXrN2CtH7",
        "colab": {
          "base_uri": "https://localhost:8080/"
        },
        "outputId": "12de3a5a-502c-442b-8536-d39d3875df0a"
      },
      "source": [
        "%load_ext google.colab.data_table\n",
        "\n",
        "import os\n",
        "import json\n",
        "import gzip\n",
        "import pandas as pd\n",
        "import matplotlib.pyplot as plt\n",
        "from urllib.request import urlopen\n",
        "\n",
        "from google.colab import files\n",
        "from IPython.display import clear_output\n",
        "\n",
        "clear_output()\n",
        "print('Done!')"
      ],
      "execution_count": null,
      "outputs": [
        {
          "output_type": "stream",
          "text": [
            "Done!\n"
          ],
          "name": "stdout"
        }
      ]
    },
    {
      "cell_type": "code",
      "metadata": {
        "id": "Yo4yyhs0qzRY",
        "colab": {
          "base_uri": "https://localhost:8080/"
        },
        "outputId": "4cf75146-b4e1-42fc-c4d7-5e084b81d2f8"
      },
      "source": [
        "! git clone https://github.com/zygmuntz/goodbooks-10k\n",
        "! mv /content/goodbooks-10k/ratings.csv /content\n",
        "! mv /content/goodbooks-10k/to_read.csv /content\n",
        "! mv /content/goodbooks-10k/books.csv /content\n",
        "! mv /content/goodbooks-10k/tags.csv /content\n",
        "! mv /content/goodbooks-10k/book_tags.csv /content\n",
        "clear_output()\n",
        "print('Done!')"
      ],
      "execution_count": null,
      "outputs": [
        {
          "output_type": "stream",
          "text": [
            "Done!\n"
          ],
          "name": "stdout"
        }
      ]
    },
    {
      "cell_type": "markdown",
      "metadata": {
        "id": "lag9CnXmcwsA"
      },
      "source": [
        "# Data Cleaning"
      ]
    },
    {
      "cell_type": "code",
      "metadata": {
        "id": "7igYuRaV4bF7",
        "colab": {
          "base_uri": "https://localhost:8080/"
        },
        "outputId": "37605c1a-524e-43bc-bd76-626d144ee1bf"
      },
      "source": [
        "books = pd.read_csv('books.csv', error_bad_lines=False).dropna()\n",
        "tags  = pd.read_csv('tags.csv', error_bad_lines=False).dropna()\n",
        "bt    = pd.read_csv('book_tags.csv', error_bad_lines=False).dropna()\n",
        "clear_output()\n",
        "print('Done!')"
      ],
      "execution_count": null,
      "outputs": [
        {
          "output_type": "stream",
          "text": [
            "Done!\n"
          ],
          "name": "stdout"
        }
      ]
    },
    {
      "cell_type": "code",
      "metadata": {
        "colab": {
          "base_uri": "https://localhost:8080/"
        },
        "id": "kpFO6dVPT4TS",
        "outputId": "9ac4b3df-781c-42cc-9228-b99241c38f0a"
      },
      "source": [
        "books.ratings_count.mean()"
      ],
      "execution_count": null,
      "outputs": [
        {
          "output_type": "execute_result",
          "data": {
            "text/plain": [
              "61174.830534351146"
            ]
          },
          "metadata": {
            "tags": []
          },
          "execution_count": 4
        }
      ]
    },
    {
      "cell_type": "code",
      "metadata": {
        "colab": {
          "base_uri": "https://localhost:8080/",
          "height": 428
        },
        "id": "eidf1UJE660H",
        "outputId": "e15765ea-45ed-4a7b-911a-07ca65edc2c9"
      },
      "source": [
        "books.head(5)"
      ],
      "execution_count": null,
      "outputs": [
        {
          "output_type": "execute_result",
          "data": {
            "text/html": [
              "<div>\n",
              "<style scoped>\n",
              "    .dataframe tbody tr th:only-of-type {\n",
              "        vertical-align: middle;\n",
              "    }\n",
              "\n",
              "    .dataframe tbody tr th {\n",
              "        vertical-align: top;\n",
              "    }\n",
              "\n",
              "    .dataframe thead th {\n",
              "        text-align: right;\n",
              "    }\n",
              "</style>\n",
              "<table border=\"1\" class=\"dataframe\">\n",
              "  <thead>\n",
              "    <tr style=\"text-align: right;\">\n",
              "      <th></th>\n",
              "      <th>book_id</th>\n",
              "      <th>goodreads_book_id</th>\n",
              "      <th>best_book_id</th>\n",
              "      <th>work_id</th>\n",
              "      <th>books_count</th>\n",
              "      <th>isbn</th>\n",
              "      <th>isbn13</th>\n",
              "      <th>authors</th>\n",
              "      <th>original_publication_year</th>\n",
              "      <th>original_title</th>\n",
              "      <th>title</th>\n",
              "      <th>language_code</th>\n",
              "      <th>average_rating</th>\n",
              "      <th>ratings_count</th>\n",
              "      <th>work_ratings_count</th>\n",
              "      <th>work_text_reviews_count</th>\n",
              "      <th>ratings_1</th>\n",
              "      <th>ratings_2</th>\n",
              "      <th>ratings_3</th>\n",
              "      <th>ratings_4</th>\n",
              "      <th>ratings_5</th>\n",
              "      <th>image_url</th>\n",
              "      <th>small_image_url</th>\n",
              "    </tr>\n",
              "  </thead>\n",
              "  <tbody>\n",
              "    <tr>\n",
              "      <th>0</th>\n",
              "      <td>1</td>\n",
              "      <td>2767052</td>\n",
              "      <td>2767052</td>\n",
              "      <td>2792775</td>\n",
              "      <td>272</td>\n",
              "      <td>439023483</td>\n",
              "      <td>9.780439e+12</td>\n",
              "      <td>Suzanne Collins</td>\n",
              "      <td>2008.0</td>\n",
              "      <td>The Hunger Games</td>\n",
              "      <td>The Hunger Games (The Hunger Games, #1)</td>\n",
              "      <td>eng</td>\n",
              "      <td>4.34</td>\n",
              "      <td>4780653</td>\n",
              "      <td>4942365</td>\n",
              "      <td>155254</td>\n",
              "      <td>66715</td>\n",
              "      <td>127936</td>\n",
              "      <td>560092</td>\n",
              "      <td>1481305</td>\n",
              "      <td>2706317</td>\n",
              "      <td>https://images.gr-assets.com/books/1447303603m...</td>\n",
              "      <td>https://images.gr-assets.com/books/1447303603s...</td>\n",
              "    </tr>\n",
              "    <tr>\n",
              "      <th>1</th>\n",
              "      <td>2</td>\n",
              "      <td>3</td>\n",
              "      <td>3</td>\n",
              "      <td>4640799</td>\n",
              "      <td>491</td>\n",
              "      <td>439554934</td>\n",
              "      <td>9.780440e+12</td>\n",
              "      <td>J.K. Rowling, Mary GrandPré</td>\n",
              "      <td>1997.0</td>\n",
              "      <td>Harry Potter and the Philosopher's Stone</td>\n",
              "      <td>Harry Potter and the Sorcerer's Stone (Harry P...</td>\n",
              "      <td>eng</td>\n",
              "      <td>4.44</td>\n",
              "      <td>4602479</td>\n",
              "      <td>4800065</td>\n",
              "      <td>75867</td>\n",
              "      <td>75504</td>\n",
              "      <td>101676</td>\n",
              "      <td>455024</td>\n",
              "      <td>1156318</td>\n",
              "      <td>3011543</td>\n",
              "      <td>https://images.gr-assets.com/books/1474154022m...</td>\n",
              "      <td>https://images.gr-assets.com/books/1474154022s...</td>\n",
              "    </tr>\n",
              "    <tr>\n",
              "      <th>2</th>\n",
              "      <td>3</td>\n",
              "      <td>41865</td>\n",
              "      <td>41865</td>\n",
              "      <td>3212258</td>\n",
              "      <td>226</td>\n",
              "      <td>316015849</td>\n",
              "      <td>9.780316e+12</td>\n",
              "      <td>Stephenie Meyer</td>\n",
              "      <td>2005.0</td>\n",
              "      <td>Twilight</td>\n",
              "      <td>Twilight (Twilight, #1)</td>\n",
              "      <td>en-US</td>\n",
              "      <td>3.57</td>\n",
              "      <td>3866839</td>\n",
              "      <td>3916824</td>\n",
              "      <td>95009</td>\n",
              "      <td>456191</td>\n",
              "      <td>436802</td>\n",
              "      <td>793319</td>\n",
              "      <td>875073</td>\n",
              "      <td>1355439</td>\n",
              "      <td>https://images.gr-assets.com/books/1361039443m...</td>\n",
              "      <td>https://images.gr-assets.com/books/1361039443s...</td>\n",
              "    </tr>\n",
              "    <tr>\n",
              "      <th>3</th>\n",
              "      <td>4</td>\n",
              "      <td>2657</td>\n",
              "      <td>2657</td>\n",
              "      <td>3275794</td>\n",
              "      <td>487</td>\n",
              "      <td>61120081</td>\n",
              "      <td>9.780061e+12</td>\n",
              "      <td>Harper Lee</td>\n",
              "      <td>1960.0</td>\n",
              "      <td>To Kill a Mockingbird</td>\n",
              "      <td>To Kill a Mockingbird</td>\n",
              "      <td>eng</td>\n",
              "      <td>4.25</td>\n",
              "      <td>3198671</td>\n",
              "      <td>3340896</td>\n",
              "      <td>72586</td>\n",
              "      <td>60427</td>\n",
              "      <td>117415</td>\n",
              "      <td>446835</td>\n",
              "      <td>1001952</td>\n",
              "      <td>1714267</td>\n",
              "      <td>https://images.gr-assets.com/books/1361975680m...</td>\n",
              "      <td>https://images.gr-assets.com/books/1361975680s...</td>\n",
              "    </tr>\n",
              "    <tr>\n",
              "      <th>4</th>\n",
              "      <td>5</td>\n",
              "      <td>4671</td>\n",
              "      <td>4671</td>\n",
              "      <td>245494</td>\n",
              "      <td>1356</td>\n",
              "      <td>743273567</td>\n",
              "      <td>9.780743e+12</td>\n",
              "      <td>F. Scott Fitzgerald</td>\n",
              "      <td>1925.0</td>\n",
              "      <td>The Great Gatsby</td>\n",
              "      <td>The Great Gatsby</td>\n",
              "      <td>eng</td>\n",
              "      <td>3.89</td>\n",
              "      <td>2683664</td>\n",
              "      <td>2773745</td>\n",
              "      <td>51992</td>\n",
              "      <td>86236</td>\n",
              "      <td>197621</td>\n",
              "      <td>606158</td>\n",
              "      <td>936012</td>\n",
              "      <td>947718</td>\n",
              "      <td>https://images.gr-assets.com/books/1490528560m...</td>\n",
              "      <td>https://images.gr-assets.com/books/1490528560s...</td>\n",
              "    </tr>\n",
              "  </tbody>\n",
              "</table>\n",
              "</div>"
            ],
            "text/plain": [
              "   book_id  ...                                    small_image_url\n",
              "0        1  ...  https://images.gr-assets.com/books/1447303603s...\n",
              "1        2  ...  https://images.gr-assets.com/books/1474154022s...\n",
              "2        3  ...  https://images.gr-assets.com/books/1361039443s...\n",
              "3        4  ...  https://images.gr-assets.com/books/1361975680s...\n",
              "4        5  ...  https://images.gr-assets.com/books/1490528560s...\n",
              "\n",
              "[5 rows x 23 columns]"
            ]
          },
          "metadata": {
            "tags": []
          },
          "execution_count": 5
        }
      ]
    },
    {
      "cell_type": "code",
      "metadata": {
        "colab": {
          "base_uri": "https://localhost:8080/",
          "height": 215
        },
        "id": "XnuOU_Zg69QD",
        "outputId": "0f0d6c03-3528-48c0-c942-220372869be7"
      },
      "source": [
        "tags.loc[5000:5005]"
      ],
      "execution_count": null,
      "outputs": [
        {
          "output_type": "execute_result",
          "data": {
            "application/vnd.google.colaboratory.module+javascript": "\n      import \"https://ssl.gstatic.com/colaboratory/data_table/a6224c040fa35dcf/data_table.js\";\n\n      window.createDataTable({\n        data: [[{\n            'v': 5000,\n            'f': \"5000\",\n        },\n{\n            'v': 5000,\n            'f': \"5000\",\n        },\n\"book-movie\"],\n [{\n            'v': 5001,\n            'f': \"5001\",\n        },\n{\n            'v': 5001,\n            'f': \"5001\",\n        },\n\"book-movie-guide\"],\n [{\n            'v': 5002,\n            'f': \"5002\",\n        },\n{\n            'v': 5002,\n            'f': \"5002\",\n        },\n\"book-of-ember\"],\n [{\n            'v': 5003,\n            'f': \"5003\",\n        },\n{\n            'v': 5003,\n            'f': \"5003\",\n        },\n\"book-of-mormon\"],\n [{\n            'v': 5004,\n            'f': \"5004\",\n        },\n{\n            'v': 5004,\n            'f': \"5004\",\n        },\n\"book-of-the-art\"],\n [{\n            'v': 5005,\n            'f': \"5005\",\n        },\n{\n            'v': 5005,\n            'f': \"5005\",\n        },\n\"book-of-the-month\"]],\n        columns: [[\"number\", \"index\"], [\"number\", \"tag_id\"], [\"string\", \"tag_name\"]],\n        columnOptions: [{\"width\": \"1px\", \"className\": \"index_column\"}],\n        rowsPerPage: 25,\n        helpUrl: \"https://colab.research.google.com/notebooks/data_table.ipynb\",\n        suppressOutputScrolling: true,\n        minimumWidth: undefined,\n      });\n    ",
            "text/html": [
              "<div>\n",
              "<style scoped>\n",
              "    .dataframe tbody tr th:only-of-type {\n",
              "        vertical-align: middle;\n",
              "    }\n",
              "\n",
              "    .dataframe tbody tr th {\n",
              "        vertical-align: top;\n",
              "    }\n",
              "\n",
              "    .dataframe thead th {\n",
              "        text-align: right;\n",
              "    }\n",
              "</style>\n",
              "<table border=\"1\" class=\"dataframe\">\n",
              "  <thead>\n",
              "    <tr style=\"text-align: right;\">\n",
              "      <th></th>\n",
              "      <th>tag_id</th>\n",
              "      <th>tag_name</th>\n",
              "    </tr>\n",
              "  </thead>\n",
              "  <tbody>\n",
              "    <tr>\n",
              "      <th>5000</th>\n",
              "      <td>5000</td>\n",
              "      <td>book-movie</td>\n",
              "    </tr>\n",
              "    <tr>\n",
              "      <th>5001</th>\n",
              "      <td>5001</td>\n",
              "      <td>book-movie-guide</td>\n",
              "    </tr>\n",
              "    <tr>\n",
              "      <th>5002</th>\n",
              "      <td>5002</td>\n",
              "      <td>book-of-ember</td>\n",
              "    </tr>\n",
              "    <tr>\n",
              "      <th>5003</th>\n",
              "      <td>5003</td>\n",
              "      <td>book-of-mormon</td>\n",
              "    </tr>\n",
              "    <tr>\n",
              "      <th>5004</th>\n",
              "      <td>5004</td>\n",
              "      <td>book-of-the-art</td>\n",
              "    </tr>\n",
              "    <tr>\n",
              "      <th>5005</th>\n",
              "      <td>5005</td>\n",
              "      <td>book-of-the-month</td>\n",
              "    </tr>\n",
              "  </tbody>\n",
              "</table>\n",
              "</div>"
            ],
            "text/plain": [
              "      tag_id           tag_name\n",
              "5000    5000         book-movie\n",
              "5001    5001   book-movie-guide\n",
              "5002    5002      book-of-ember\n",
              "5003    5003     book-of-mormon\n",
              "5004    5004    book-of-the-art\n",
              "5005    5005  book-of-the-month"
            ]
          },
          "metadata": {
            "tags": []
          },
          "execution_count": 6
        }
      ]
    },
    {
      "cell_type": "code",
      "metadata": {
        "colab": {
          "base_uri": "https://localhost:8080/",
          "height": 282
        },
        "id": "8n7SGOct_RRo",
        "outputId": "086c9f60-d5aa-4b09-9f40-a955dd6b83ac"
      },
      "source": [
        "plt.figure()\n",
        "\n",
        "df = books[books.original_publication_year > 1800].original_publication_year\n",
        "df.hist(bins=20)"
      ],
      "execution_count": null,
      "outputs": [
        {
          "output_type": "execute_result",
          "data": {
            "text/plain": [
              "<matplotlib.axes._subplots.AxesSubplot at 0x7f3a04df1790>"
            ]
          },
          "metadata": {
            "tags": []
          },
          "execution_count": 7
        },
        {
          "output_type": "display_data",
          "data": {
            "image/png": "[encoded data removed]",
            "text/plain": [
              "<Figure size 432x288 with 1 Axes>"
            ]
          },
          "metadata": {
            "tags": [],
            "needs_background": "light"
          }
        }
      ]
    },
    {
      "cell_type": "code",
      "metadata": {
        "colab": {
          "base_uri": "https://localhost:8080/",
          "height": 318
        },
        "id": "Zsg89oytCBXh",
        "outputId": "4c79fd5d-03a3-467e-d9a1-074c0e9b90a3"
      },
      "source": [
        "plt.figure()\n",
        "\n",
        "df = books.groupby('language_code').count().goodreads_book_id\n",
        "df.plot(kind='bar')"
      ],
      "execution_count": null,
      "outputs": [
        {
          "output_type": "execute_result",
          "data": {
            "text/plain": [
              "<matplotlib.axes._subplots.AxesSubplot at 0x7f39fdb2a350>"
            ]
          },
          "metadata": {
            "tags": []
          },
          "execution_count": 8
        },
        {
          "output_type": "display_data",
          "data": {
            "image/png": "[encoded data removed]",
            "text/plain": [
              "<Figure size 432x288 with 1 Axes>"
            ]
          },
          "metadata": {
            "tags": [],
            "needs_background": "light"
          }
        }
      ]
    },
    {
      "cell_type": "code",
      "metadata": {
        "id": "0o6b3tBze7Vo"
      },
      "source": [
        "# @title Drop Columns\n",
        "books = books[['goodreads_book_id', 'authors', 'original_publication_year', 'original_title', 'language_code', 'average_rating', 'ratings_count']]"
      ],
      "execution_count": null,
      "outputs": []
    },
    {
      "cell_type": "code",
      "metadata": {
        "id": "xZni2kWJijUc"
      },
      "source": [
        "# @title Join Tables\n",
        "bt = bt.merge(tags, on='tag_id')\n",
        "books = books.merge(bt[['goodreads_book_id', 'tag_name']], on='goodreads_book_id')"
      ],
      "execution_count": null,
      "outputs": []
    },
    {
      "cell_type": "code",
      "metadata": {
        "colab": {
          "base_uri": "https://localhost:8080/",
          "height": 194
        },
        "id": "jeOo1uEI3mf6",
        "outputId": "2ae0ab15-efa8-4a52-ca3b-55b2256b7244"
      },
      "source": [
        "books.head()"
      ],
      "execution_count": null,
      "outputs": [
        {
          "output_type": "execute_result",
          "data": {
            "application/vnd.google.colaboratory.module+javascript": "\n      import \"https://ssl.gstatic.com/colaboratory/data_table/a6224c040fa35dcf/data_table.js\";\n\n      window.createDataTable({\n        data: [[{\n            'v': 0,\n            'f': \"0\",\n        },\n{\n            'v': 2767052,\n            'f': \"2767052\",\n        },\n\"Suzanne Collins\",\n{\n            'v': 2008.0,\n            'f': \"2008.0\",\n        },\n\"The Hunger Games\",\n\"eng\",\n{\n            'v': 4.34,\n            'f': \"4.34\",\n        },\n{\n            'v': 4780653,\n            'f': \"4780653\",\n        },\n\"to-read\"],\n [{\n            'v': 1,\n            'f': \"1\",\n        },\n{\n            'v': 2767052,\n            'f': \"2767052\",\n        },\n\"Suzanne Collins\",\n{\n            'v': 2008.0,\n            'f': \"2008.0\",\n        },\n\"The Hunger Games\",\n\"eng\",\n{\n            'v': 4.34,\n            'f': \"4.34\",\n        },\n{\n            'v': 4780653,\n            'f': \"4780653\",\n        },\n\"fantasy\"],\n [{\n            'v': 2,\n            'f': \"2\",\n        },\n{\n            'v': 2767052,\n            'f': \"2767052\",\n        },\n\"Suzanne Collins\",\n{\n            'v': 2008.0,\n            'f': \"2008.0\",\n        },\n\"The Hunger Games\",\n\"eng\",\n{\n            'v': 4.34,\n            'f': \"4.34\",\n        },\n{\n            'v': 4780653,\n            'f': \"4780653\",\n        },\n\"favorites\"],\n [{\n            'v': 3,\n            'f': \"3\",\n        },\n{\n            'v': 2767052,\n            'f': \"2767052\",\n        },\n\"Suzanne Collins\",\n{\n            'v': 2008.0,\n            'f': \"2008.0\",\n        },\n\"The Hunger Games\",\n\"eng\",\n{\n            'v': 4.34,\n            'f': \"4.34\",\n        },\n{\n            'v': 4780653,\n            'f': \"4780653\",\n        },\n\"currently-reading\"],\n [{\n            'v': 4,\n            'f': \"4\",\n        },\n{\n            'v': 2767052,\n            'f': \"2767052\",\n        },\n\"Suzanne Collins\",\n{\n            'v': 2008.0,\n            'f': \"2008.0\",\n        },\n\"The Hunger Games\",\n\"eng\",\n{\n            'v': 4.34,\n            'f': \"4.34\",\n        },\n{\n            'v': 4780653,\n            'f': \"4780653\",\n        },\n\"young-adult\"]],\n        columns: [[\"number\", \"index\"], [\"number\", \"goodreads_book_id\"], [\"string\", \"authors\"], [\"number\", \"original_publication_year\"], [\"string\", \"original_title\"], [\"string\", \"language_code\"], [\"number\", \"average_rating\"], [\"number\", \"ratings_count\"], [\"string\", \"tag_name\"]],\n        columnOptions: [{\"width\": \"1px\", \"className\": \"index_column\"}],\n        rowsPerPage: 25,\n        helpUrl: \"https://colab.research.google.com/notebooks/data_table.ipynb\",\n        suppressOutputScrolling: true,\n        minimumWidth: undefined,\n      });\n    ",
            "text/html": [
              "<div>\n",
              "<style scoped>\n",
              "    .dataframe tbody tr th:only-of-type {\n",
              "        vertical-align: middle;\n",
              "    }\n",
              "\n",
              "    .dataframe tbody tr th {\n",
              "        vertical-align: top;\n",
              "    }\n",
              "\n",
              "    .dataframe thead th {\n",
              "        text-align: right;\n",
              "    }\n",
              "</style>\n",
              "<table border=\"1\" class=\"dataframe\">\n",
              "  <thead>\n",
              "    <tr style=\"text-align: right;\">\n",
              "      <th></th>\n",
              "      <th>goodreads_book_id</th>\n",
              "      <th>authors</th>\n",
              "      <th>original_publication_year</th>\n",
              "      <th>original_title</th>\n",
              "      <th>language_code</th>\n",
              "      <th>average_rating</th>\n",
              "      <th>ratings_count</th>\n",
              "      <th>tag_name</th>\n",
              "    </tr>\n",
              "  </thead>\n",
              "  <tbody>\n",
              "    <tr>\n",
              "      <th>0</th>\n",
              "      <td>2767052</td>\n",
              "      <td>Suzanne Collins</td>\n",
              "      <td>2008.0</td>\n",
              "      <td>The Hunger Games</td>\n",
              "      <td>eng</td>\n",
              "      <td>4.34</td>\n",
              "      <td>4780653</td>\n",
              "      <td>to-read</td>\n",
              "    </tr>\n",
              "    <tr>\n",
              "      <th>1</th>\n",
              "      <td>2767052</td>\n",
              "      <td>Suzanne Collins</td>\n",
              "      <td>2008.0</td>\n",
              "      <td>The Hunger Games</td>\n",
              "      <td>eng</td>\n",
              "      <td>4.34</td>\n",
              "      <td>4780653</td>\n",
              "      <td>fantasy</td>\n",
              "    </tr>\n",
              "    <tr>\n",
              "      <th>2</th>\n",
              "      <td>2767052</td>\n",
              "      <td>Suzanne Collins</td>\n",
              "      <td>2008.0</td>\n",
              "      <td>The Hunger Games</td>\n",
              "      <td>eng</td>\n",
              "      <td>4.34</td>\n",
              "      <td>4780653</td>\n",
              "      <td>favorites</td>\n",
              "    </tr>\n",
              "    <tr>\n",
              "      <th>3</th>\n",
              "      <td>2767052</td>\n",
              "      <td>Suzanne Collins</td>\n",
              "      <td>2008.0</td>\n",
              "      <td>The Hunger Games</td>\n",
              "      <td>eng</td>\n",
              "      <td>4.34</td>\n",
              "      <td>4780653</td>\n",
              "      <td>currently-reading</td>\n",
              "    </tr>\n",
              "    <tr>\n",
              "      <th>4</th>\n",
              "      <td>2767052</td>\n",
              "      <td>Suzanne Collins</td>\n",
              "      <td>2008.0</td>\n",
              "      <td>The Hunger Games</td>\n",
              "      <td>eng</td>\n",
              "      <td>4.34</td>\n",
              "      <td>4780653</td>\n",
              "      <td>young-adult</td>\n",
              "    </tr>\n",
              "  </tbody>\n",
              "</table>\n",
              "</div>"
            ],
            "text/plain": [
              "   goodreads_book_id          authors  ...  ratings_count           tag_name\n",
              "0            2767052  Suzanne Collins  ...        4780653            to-read\n",
              "1            2767052  Suzanne Collins  ...        4780653            fantasy\n",
              "2            2767052  Suzanne Collins  ...        4780653          favorites\n",
              "3            2767052  Suzanne Collins  ...        4780653  currently-reading\n",
              "4            2767052  Suzanne Collins  ...        4780653        young-adult\n",
              "\n",
              "[5 rows x 8 columns]"
            ]
          },
          "metadata": {
            "tags": []
          },
          "execution_count": 11
        }
      ]
    },
    {
      "cell_type": "markdown",
      "metadata": {
        "id": "b0bD88tM4kk9"
      },
      "source": [
        "# Recommender System"
      ]
    },
    {
      "cell_type": "code",
      "metadata": {
        "id": "5mQ_yAV3330w"
      },
      "source": [
        "def recommend(tag, from_year, to_year, language, percentile=0.8):\n",
        "  df = books.copy()\n",
        "\n",
        "  if len(tag) > 0:\n",
        "    df = df[df.tag_name == tag]\n",
        "\n",
        "  if len(language) > 0:\n",
        "    df = df[df.language_code.isin(language)]\n",
        "\n",
        "  df = df[(df['original_publication_year'] >= from_year) & \n",
        "          (df['original_publication_year'] <= to_year)]\n",
        "\n",
        "  if len(df) == 0:\n",
        "    return\n",
        "\n",
        "  C = df['average_rating'].mean()\n",
        "  m = df['ratings_count'].quantile(percentile)\n",
        "\n",
        "  qdf = df.copy().loc[df['ratings_count'] >= m]\n",
        "  qdf['score'] = qdf.apply(lambda x: (x['ratings_count']/(x['ratings_count']+m) * x['average_rating']) \n",
        "                                    + (m/(m+x['ratings_count']) * C)\n",
        "                                    ,axis=1)\n",
        "  \n",
        "  return qdf.sort_values('score', ascending=False)\n"
      ],
      "execution_count": null,
      "outputs": []
    },
    {
      "cell_type": "code",
      "metadata": {
        "colab": {
          "base_uri": "https://localhost:8080/",
          "height": 210
        },
        "id": "XfqKot3W7BF3",
        "cellView": "form",
        "outputId": "b1e0c7a5-07dc-4b6a-cdec-63928f63399a"
      },
      "source": [
        "#@title Try Recommender System\n",
        "tag = \"horror\" #@param {type:\"string\"}\n",
        "from_year =  1998#@param {type:\"integer\"}\n",
        "to_year = 2017 #@param {type:\"integer\"}\n",
        "language = \"English\" #@param [\"All\", \"English\",\"Spanish\",\"French\",\"Dutch\",\"Italian\",\"Farsi\",\"Swedish\",\"Turkish\",\"Portuguese\",\"German\",\"Arabic\",\"Norwegian\",\"Japanese\",\"Russian\"]\n",
        "percentile = 0.5 #@param {type:\"slider\", min:0, max:1, step:0.01}\n",
        "list_size =  5#@param {type:\"integer\"}\n",
        "lang2code = {\n",
        "    \"All\":  [],\n",
        "    \"English\": ['eng', 'en-US', 'en-CA', 'en-GB'],\n",
        "    \"Spanish\": ['spa'],\n",
        "    \"French\":  ['fre'],\n",
        "    \"Dutch\":   ['nl'],\n",
        "    \"Italian\": ['ita'],\n",
        "    \"Farsi\":   ['per'],\n",
        "    \"Swedish\": ['swe'],\n",
        "    \"Turkish\": ['tur'],\n",
        "    \"Portuguese\": ['por'],\n",
        "    \"German\":  ['ger'],\n",
        "    \"Arabic\": ['ara'],\n",
        "    \"Norwegian\": ['nor'],\n",
        "    \"Japanese\": ['jpn'],\n",
        "    \"Russian\": ['rus'],\n",
        "}\n",
        "recommend(tag, from_year, to_year, lang2code[language], percentile).head(list_size)"
      ],
      "execution_count": null,
      "outputs": [
        {
          "output_type": "execute_result",
          "data": {
            "application/vnd.google.colaboratory.module+javascript": "\n      import \"https://ssl.gstatic.com/colaboratory/data_table/a6224c040fa35dcf/data_table.js\";\n\n      window.createDataTable({\n        data: [[{\n            'v': 146773,\n            'f': \"146773\",\n        },\n{\n            'v': 6585201,\n            'f': \"6585201\",\n        },\n\"Jim Butcher\",\n{\n            'v': 2010.0,\n            'f': \"2010.0\",\n        },\n\"Changes\",\n\"eng\",\n{\n            'v': 4.54,\n            'f': \"4.54\",\n        },\n{\n            'v': 66402,\n            'f': \"66402\",\n        },\n\"horror\",\n{\n            'v': 4.395095965673409,\n            'f': \"4.395095965673409\",\n        }],\n [{\n            'v': 150870,\n            'f': \"150870\",\n        },\n{\n            'v': 12216302,\n            'f': \"12216302\",\n        },\n\"Jim Butcher\",\n{\n            'v': 2012.0,\n            'f': \"2012.0\",\n        },\n\"Cold Days\",\n\"en-US\",\n{\n            'v': 4.51,\n            'f': \"4.51\",\n        },\n{\n            'v': 57779,\n            'f': \"57779\",\n        },\n\"horror\",\n{\n            'v': 4.358608167655082,\n            'f': \"4.358608167655082\",\n        }],\n [{\n            'v': 55242,\n            'f': \"55242\",\n        },\n{\n            'v': 13615,\n            'f': \"13615\",\n        },\n\"Tsugumi Ohba, Takeshi Obata\",\n{\n            'v': 2004.0,\n            'f': \"2004.0\",\n        },\n\"\\u30c7\\u30b9\\u30ce\\u30fc\\u30c8 #1 (Desu N\\u014dto) Taikutsu (\\u9000\\u5c48)\",\n\"eng\",\n{\n            'v': 4.42,\n            'f': \"4.42\",\n        },\n{\n            'v': 139501,\n            'f': \"139501\",\n        },\n\"horror\",\n{\n            'v': 4.3574884243528125,\n            'f': \"4.3574884243528125\",\n        }],\n [{\n            'v': 188168,\n            'f': \"188168\",\n        },\n{\n            'v': 19486421,\n            'f': \"19486421\",\n        },\n\"Jim Butcher\",\n{\n            'v': 2014.0,\n            'f': \"2014.0\",\n        },\n\"Skin Game\",\n\"eng\",\n{\n            'v': 4.55,\n            'f': \"4.55\",\n        },\n{\n            'v': 41512,\n            'f': \"41512\",\n        },\n\"horror\",\n{\n            'v': 4.346357492873004,\n            'f': \"4.346357492873004\",\n        }],\n [{\n            'v': 123973,\n            'f': \"123973\",\n        },\n{\n            'v': 17683,\n            'f': \"17683\",\n        },\n\"Jim Butcher\",\n{\n            'v': 2005.0,\n            'f': \"2005.0\",\n        },\n\"Dead Beat\",\n\"eng\",\n{\n            'v': 4.43,\n            'f': \"4.43\",\n        },\n{\n            'v': 78123,\n            'f': \"78123\",\n        },\n\"horror\",\n{\n            'v': 4.3275590897193075,\n            'f': \"4.3275590897193075\",\n        }]],\n        columns: [[\"number\", \"index\"], [\"number\", \"goodreads_book_id\"], [\"string\", \"authors\"], [\"number\", \"original_publication_year\"], [\"string\", \"original_title\"], [\"string\", \"language_code\"], [\"number\", \"average_rating\"], [\"number\", \"ratings_count\"], [\"string\", \"tag_name\"], [\"number\", \"score\"]],\n        columnOptions: [{\"width\": \"1px\", \"className\": \"index_column\"}],\n        rowsPerPage: 25,\n        helpUrl: \"https://colab.research.google.com/notebooks/data_table.ipynb\",\n        suppressOutputScrolling: true,\n        minimumWidth: undefined,\n      });\n    ",
            "text/html": [
              "<div>\n",
              "<style scoped>\n",
              "    .dataframe tbody tr th:only-of-type {\n",
              "        vertical-align: middle;\n",
              "    }\n",
              "\n",
              "    .dataframe tbody tr th {\n",
              "        vertical-align: top;\n",
              "    }\n",
              "\n",
              "    .dataframe thead th {\n",
              "        text-align: right;\n",
              "    }\n",
              "</style>\n",
              "<table border=\"1\" class=\"dataframe\">\n",
              "  <thead>\n",
              "    <tr style=\"text-align: right;\">\n",
              "      <th></th>\n",
              "      <th>goodreads_book_id</th>\n",
              "      <th>authors</th>\n",
              "      <th>original_publication_year</th>\n",
              "      <th>original_title</th>\n",
              "      <th>language_code</th>\n",
              "      <th>average_rating</th>\n",
              "      <th>ratings_count</th>\n",
              "      <th>tag_name</th>\n",
              "      <th>score</th>\n",
              "    </tr>\n",
              "  </thead>\n",
              "  <tbody>\n",
              "    <tr>\n",
              "      <th>146773</th>\n",
              "      <td>6585201</td>\n",
              "      <td>Jim Butcher</td>\n",
              "      <td>2010.0</td>\n",
              "      <td>Changes</td>\n",
              "      <td>eng</td>\n",
              "      <td>4.54</td>\n",
              "      <td>66402</td>\n",
              "      <td>horror</td>\n",
              "      <td>4.395096</td>\n",
              "    </tr>\n",
              "    <tr>\n",
              "      <th>150870</th>\n",
              "      <td>12216302</td>\n",
              "      <td>Jim Butcher</td>\n",
              "      <td>2012.0</td>\n",
              "      <td>Cold Days</td>\n",
              "      <td>en-US</td>\n",
              "      <td>4.51</td>\n",
              "      <td>57779</td>\n",
              "      <td>horror</td>\n",
              "      <td>4.358608</td>\n",
              "    </tr>\n",
              "    <tr>\n",
              "      <th>55242</th>\n",
              "      <td>13615</td>\n",
              "      <td>Tsugumi Ohba, Takeshi Obata</td>\n",
              "      <td>2004.0</td>\n",
              "      <td>デスノート #1 (Desu Nōto) Taikutsu (退屈)</td>\n",
              "      <td>eng</td>\n",
              "      <td>4.42</td>\n",
              "      <td>139501</td>\n",
              "      <td>horror</td>\n",
              "      <td>4.357488</td>\n",
              "    </tr>\n",
              "    <tr>\n",
              "      <th>188168</th>\n",
              "      <td>19486421</td>\n",
              "      <td>Jim Butcher</td>\n",
              "      <td>2014.0</td>\n",
              "      <td>Skin Game</td>\n",
              "      <td>eng</td>\n",
              "      <td>4.55</td>\n",
              "      <td>41512</td>\n",
              "      <td>horror</td>\n",
              "      <td>4.346357</td>\n",
              "    </tr>\n",
              "    <tr>\n",
              "      <th>123973</th>\n",
              "      <td>17683</td>\n",
              "      <td>Jim Butcher</td>\n",
              "      <td>2005.0</td>\n",
              "      <td>Dead Beat</td>\n",
              "      <td>eng</td>\n",
              "      <td>4.43</td>\n",
              "      <td>78123</td>\n",
              "      <td>horror</td>\n",
              "      <td>4.327559</td>\n",
              "    </tr>\n",
              "  </tbody>\n",
              "</table>\n",
              "</div>"
            ],
            "text/plain": [
              "        goodreads_book_id                      authors  ...  tag_name     score\n",
              "146773            6585201                  Jim Butcher  ...    horror  4.395096\n",
              "150870           12216302                  Jim Butcher  ...    horror  4.358608\n",
              "55242               13615  Tsugumi Ohba, Takeshi Obata  ...    horror  4.357488\n",
              "188168           19486421                  Jim Butcher  ...    horror  4.346357\n",
              "123973              17683                  Jim Butcher  ...    horror  4.327559\n",
              "\n",
              "[5 rows x 9 columns]"
            ]
          },
          "metadata": {
            "tags": []
          },
          "execution_count": 23
        }
      ]
    },
    {
      "cell_type": "code",
      "metadata": {
        "id": "4lEBcyo5ZlKU"
      },
      "source": [
        ""
      ],
      "execution_count": null,
      "outputs": []
    }
  ]
}